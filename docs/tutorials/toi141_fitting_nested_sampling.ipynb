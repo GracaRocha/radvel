{
 "cells": [
  {
   "cell_type": "markdown",
   "id": "0820720d",
   "metadata": {},
   "source": [
    "# TOI-141 Radial Velocities: Nested Sampling and Comparison with Juliet\n",
    "\n",
    "In this notebook, we will analyze the RV observations of TOI-141 presented in [Espinoza et al. (2019)](https://arxiv.org/abs/1903.07694).\n",
    "In doing so, we aim to reproduce the [\"Fitting radial-velocities\" tutorial from the juliet package](https://juliet.readthedocs.io/en/latest/tutorials/rvfits.html) analyzing the same data.\n",
    "This should provide users a good entry point to convert code from one library to anoter in addition to demonstrating the nested sampling interface in RadVel."
   ]
  },
  {
   "cell_type": "code",
   "execution_count": null,
   "id": "60d729d7",
   "metadata": {},
   "outputs": [],
   "source": [
    "from pandas import read_csv\n",
    "import os\n",
    "import numpy as np\n",
    "import matplotlib.pyplot as plt\n",
    "from scipy import optimize\n",
    "\n",
    "import radvel\n",
    "\n",
    "plt.style.use(\"tableau-colorblind10\")"
   ]
  },
  {
   "cell_type": "markdown",
   "id": "790c2482",
   "metadata": {},
   "source": [
    "## The Data\n",
    "\n",
    "Let us first load the data. We added the data from Juliet to RadVel's example data directory (`radvel.DATADIR`) so they are easily accessible."
   ]
  },
  {
   "cell_type": "code",
   "execution_count": null,
   "id": "c0227c40",
   "metadata": {},
   "outputs": [],
   "source": [
    "data_df = read_csv(os.path.join(radvel.DATADIR, \"rvs_toi141.dat\"), sep=\" \", names=[\"t\", \"rv\", \"erv\", \"inst\"])\n",
    "t, vel, errvel, inst = data_df.t.values, data_df.rv.values, data_df.erv.values, data_df.inst.values\n",
    "min_time = np.min(t[inst == \"FEROS\"]) - 30.0\n",
    "max_time = np.max(t[inst == \"FEROS\"]) + 30.0\n",
    "t_mod = np.linspace(min_time, max_time, 1000)\n",
    "\n",
    "inst_groups = data_df.groupby(\"inst\").groups\n",
    "inst_names = list(inst_groups.keys())\n",
    "\n",
    "T_OFF = 2457000.0"
   ]
  },
  {
   "cell_type": "code",
   "execution_count": null,
   "id": "76124965",
   "metadata": {},
   "outputs": [],
   "source": [
    "def plot_data(t, vel, errvel, post=None, instruments=None):\n",
    "    fig = plt.figure(figsize=(12, 5))\n",
    "    instruments =  instruments or [\"FEROS\", \"HARPS\"]\n",
    "    for inst in instruments:\n",
    "        inds = inst_groups[inst]\n",
    "        if post is not None:\n",
    "            vel = vel - post.params[f\"gamma_{inst}\"].value\n",
    "            errvel_inflated = np.sqrt(errvel**2 + post.params[f\"jit_{inst}\"].value**2)\n",
    "        plt.errorbar(t[inds] - T_OFF, vel[inds], yerr=errvel[inds], fmt=\"o\", label=inst, mfc=\"w\")\n",
    "        if post is not None:\n",
    "            plt.errorbar(t[inds] - T_OFF, vel[inds], yerr=errvel_inflated[inds], fmt=\"None\", ecolor=\"r\", capsize=0, zorder=-10)\n",
    "    plt.ylabel(\"RV [m/s]\")\n",
    "    plt.xlabel(f\"Time [BJD - {T_OFF}\")\n",
    "    plt.legend()\n",
    "    return fig\n",
    "\n",
    "plot_data(t, vel, errvel, instruments=inst_names)\n",
    "plt.title(\"Raw RV Data\")\n",
    "plt.show()"
   ]
  },
  {
   "cell_type": "markdown",
   "id": "0feaf64c",
   "metadata": {},
   "source": [
    "The CORALIE data is very sparse, so we will focus on the FEROS and HARPS data in these plots."
   ]
  },
  {
   "cell_type": "code",
   "execution_count": null,
   "id": "b3b295c5",
   "metadata": {},
   "outputs": [],
   "source": [
    "plot_data(t, vel, errvel)\n",
    "plt.title(\"Raw RV Data\")\n",
    "plt.show()"
   ]
  },
  {
   "cell_type": "markdown",
   "id": "ff180a7f",
   "metadata": {},
   "source": [
    "## One-planet fit\n",
    "\n",
    "We will start by fitting the transiting planet in the system.\n",
    "The period and time of conjunction from transits are $P = 1.07917 \\pm 0.000073$ days and $t_0 = 2458325.5386 \\pm 0.0011$, respectively.\n",
    "We can use these results as priors for the RV fit. We also assume circular orbits, so we fix `e` and `w` for all planets.\n",
    "\n",
    "### RadVel model\n",
    "\n",
    "Since this is multi-instrument fit, we will need to define more than one likelihood, all sharing the same physical `RVModel`.\n",
    "We will need to re-build the model multiple times (for 1, 2 and 3 planets) so we create a \"builder function\".\n",
    "The parameters are first initialized as point estimates.\n",
    "Then one likelihood per instrument is set, and we make sure that each likelihood has access only to the data from one instrument.\n",
    "Finally, we combine the likelihoods in a `CompositeLikelihood` object pass them to a `Posterior`.\n",
    "We then add priors to the posterior objects for all free parameters."
   ]
  },
  {
   "cell_type": "code",
   "execution_count": null,
   "id": "15bb3bd6",
   "metadata": {},
   "outputs": [],
   "source": [
    "def build_model(n_planets):\n",
    "    params = radvel.Parameters(n_planets, basis=\"per tc e w k\")\n",
    "\n",
    "    P = 1.007917\n",
    "    P_err = 0.000073\n",
    "    t0 = 2458325.5386\n",
    "    t0_err = 0.0011\n",
    "    params[\"per1\"] = radvel.Parameter(value=P)\n",
    "    params[\"tc1\"] = radvel.Parameter(value=t0)\n",
    "    params[\"e1\"] = radvel.Parameter(value=0.0, vary=False)\n",
    "    params[\"w1\"] = radvel.Parameter(value=90.0 * np.pi / 180.0, vary=False)\n",
    "    params[\"k1\"] = radvel.Parameter(value=10.0)\n",
    "    params['dvdt'] = radvel.Parameter(value=0.,vary=False)\n",
    "    params['curv'] = radvel.Parameter(value=0.,vary=False)\n",
    "    if n_planets > 1:\n",
    "        params[\"per2\"] = radvel.Parameter(value=3.0)\n",
    "        params[\"tc2\"] = radvel.Parameter(value=2458325+2)\n",
    "        params[\"e2\"] = radvel.Parameter(value=0.0, vary=False)\n",
    "        params[\"w2\"] = radvel.Parameter(value=90.0 * np.pi / 180.0, vary=False)\n",
    "        params[\"k2\"] = radvel.Parameter(value=10.0)\n",
    "    if n_planets > 2:\n",
    "        params[\"per3\"] = radvel.Parameter(value=10.0)\n",
    "        params[\"tc3\"] = radvel.Parameter(value=2458325+8)\n",
    "        params[\"e3\"] = radvel.Parameter(value=0.0, vary=False)\n",
    "        params[\"w3\"] = radvel.Parameter(value=90.0 * np.pi / 180.0, vary=False)\n",
    "        params[\"k3\"] = radvel.Parameter(value=10.0)\n",
    "\n",
    "    model = radvel.RVModel(params)\n",
    "\n",
    "    likes = []\n",
    "    for inst in inst_names:\n",
    "        indices = inst_groups[inst]\n",
    "        like_inst = radvel.RVLikelihood(model, t[indices], vel[indices], errvel[indices], suffix=f\"_{inst}\")\n",
    "        like_inst.params['gamma_'+inst] = radvel.Parameter(value=np.mean(vel[indices]), vary=True)\n",
    "        like_inst.params['jit_'+inst] = radvel.Parameter(value=np.mean(errvel[indices]), vary=True)\n",
    "        likes.append(like_inst)\n",
    "\n",
    "    like = radvel.CompositeLikelihood(likes)\n",
    "\n",
    "    post = radvel.posterior.Posterior(like)\n",
    "\n",
    "    post.priors += [radvel.prior.Gaussian(\"per1\", P, P_err)]\n",
    "    post.priors += [radvel.prior.Gaussian(\"tc1\", t0, t0_err)]\n",
    "    post.priors += [radvel.prior.HardBounds(\"gamma_CORALIE14\", -100.0, 100.0)]\n",
    "    post.priors += [radvel.prior.HardBounds(\"gamma_CORALIE07\", -100.0, 100.0)]\n",
    "    post.priors += [radvel.prior.HardBounds(\"gamma_HARPS\", -100.0, 100.0)]\n",
    "    post.priors += [radvel.prior.HardBounds(\"gamma_FEROS\", -100.0, 100.0)]\n",
    "    post.priors += [radvel.prior.HardBounds(\"k1\", 0.0, 100.0)]\n",
    "    post.priors += [radvel.prior.Jeffreys(\"jit_CORALIE14\", 1e-3, 100.0)]\n",
    "    post.priors += [radvel.prior.Jeffreys(\"jit_CORALIE07\", 1e-3, 100.0)]\n",
    "    post.priors += [radvel.prior.Jeffreys(\"jit_HARPS\", 1e-3, 100.0)]\n",
    "    post.priors += [radvel.prior.Jeffreys(\"jit_FEROS\", 1e-3, 100.0)]\n",
    "    if n_planets > 1:\n",
    "        post.priors += [radvel.prior.HardBounds(\"per2\", 1.0, 10.0)]\n",
    "        post.priors += [radvel.prior.HardBounds(\"tc2\", 2458325.0, 2458330.0)]\n",
    "        post.priors += [radvel.prior.HardBounds(\"k2\", 0.0, 100.0)]\n",
    "    if n_planets > 2:\n",
    "        post.priors += [radvel.prior.HardBounds(\"per3\", 1.0, 40.0)]\n",
    "        post.priors += [radvel.prior.HardBounds(\"tc3\", 2458325.0, 2458355.0)]\n",
    "        post.priors += [radvel.prior.HardBounds(\"k3\", 0.0, 100.0)]\n",
    "    return post"
   ]
  },
  {
   "cell_type": "code",
   "execution_count": null,
   "id": "9f3e75f9",
   "metadata": {},
   "outputs": [],
   "source": [
    "post_single = build_model(1)\n",
    "print(post_single)"
   ]
  },
  {
   "cell_type": "markdown",
   "id": "4d97a4b7",
   "metadata": {},
   "source": [
    "Note that because we are will use nested sampling, we absolutely need _proper_ priors for all parameters.\n",
    "This will be checked internally in the `radvel.nested_sampling` module, but we can check manually.\n",
    "The function below will return an error if one of the parameters has no priors."
   ]
  },
  {
   "cell_type": "code",
   "execution_count": null,
   "id": "3f8c2828",
   "metadata": {},
   "outputs": [],
   "source": [
    "post_single.check_proper_priors()"
   ]
  },
  {
   "cell_type": "markdown",
   "id": "5b8f145d",
   "metadata": {},
   "source": [
    "### MAP Estimate\n",
    "\n",
    "Before diving into a nested sampling analysis, let us take a quick look at what the maximum a posteriori (MAP) result looks like.\n"
   ]
  },
  {
   "cell_type": "code",
   "execution_count": null,
   "id": "e5b29ff7",
   "metadata": {},
   "outputs": [],
   "source": [
    "res = optimize.minimize(\n",
    "    post_single.neglogprob_array, post_single.get_vary_params(), method='Nelder-Mead',\n",
    "    options=dict(maxiter=200, maxfev=100000, xatol=1e-8)\n",
    ")\n",
    "post_single.set_vary_params(res.x)"
   ]
  },
  {
   "cell_type": "code",
   "execution_count": null,
   "id": "07717dff",
   "metadata": {},
   "outputs": [],
   "source": [
    "plot_data(t, vel, errvel, post=post_single)\n",
    "plt.plot(t_mod - T_OFF, post_single.model(t_mod), \"k\", label=\"Keplerian fit\")\n",
    "plt.show()"
   ]
  },
  {
   "cell_type": "markdown",
   "id": "8ddfcc40",
   "metadata": {},
   "source": [
    "### Nested Sampling\n",
    "\n",
    "This looks pretty good, but we do not have the posterior distribution for our paramters, nor the Bayesian evidence.\n",
    "We can obtain both of these with nested sampling.\n",
    "RadVel supports several nested sampling libraries in its `nested_sampling` module.\n",
    "Each `run_` function in there is fairly simple, calling `Posterior.likelihood_ns_array()` and `Posterior.prior_transform()`.\n",
    "Take a look at the code if you would like to implement another nested sampling library that is not supported!\n",
    "\n",
    "For this example, we will use [PyMultiNest](https://github.com/JohannesBuchner/PyMultiNest/), since it is used by default in the Juliet tutorial.\n",
    "By default, we only need to pass the `Posterior` object `post_single` to the sampling function.\n",
    "Extra arguments in `run_kwargs` are passed directly to `pymultinest.run()`. Here we use 300 live points and `resume=False` to make sure that the sampling runs from scratch and that no results saved on disk are re-used.\n",
    "The multinest interface returns a `results` dictionary with three elements:\n",
    "\n",
    "- `lnZ`: The Bayesian Evidence\n",
    "- `lnZerr`: The statistical uncertainty on the Bayesian Evidence\n",
    "- `samples`: The equally-weighted posterior samples. Here, \"equally-weighted\" means that the raw nested sampling samples were re-weighted to be equivalent to MCMC samples.\n",
    "\n",
    "In the cell below, we discard the last dimension of the samples as it contains log-likelihood values, which we are not interested in."
   ]
  },
  {
   "cell_type": "code",
   "execution_count": null,
   "id": "b14e3fff",
   "metadata": {},
   "outputs": [],
   "source": [
    "from radvel import nested_sampling\n",
    "\n",
    "results_single = nested_sampling.run_multinest(post_single, run_kwargs={\"n_live_points\": 300, \"resume\": False})\n",
    "samples_single = results_single[\"samples\"][:, :-1]"
   ]
  },
  {
   "cell_type": "markdown",
   "id": "99e57167",
   "metadata": {},
   "source": [
    "And finally, we can display the fit from our posterior median along with the data."
   ]
  },
  {
   "cell_type": "code",
   "execution_count": null,
   "id": "c57fbbeb",
   "metadata": {},
   "outputs": [],
   "source": [
    "med_params = np.median(samples_single, axis=0)\n",
    "post_single.set_vary_params(med_params)\n",
    "print(post_single)\n",
    "\n",
    "plot_data(t, vel, errvel, post=post_single)\n",
    "plt.plot(t_mod - T_OFF, post_single.model(t_mod))\n",
    "plt.ylim([-20,20])\n",
    "plt.xlim([1365,1435])\n",
    "plt.title(f\"1 Planet Fit | Log-evidence: {results_single['lnZ']:.2f} $\\pm$ {results_single['lnZerr']:.2f}\")\n",
    "plt.show()"
   ]
  },
  {
   "cell_type": "markdown",
   "id": "c058b0ed",
   "metadata": {},
   "source": [
    "We note two things here:\n",
    "\n",
    "- The evidence is consistent with the results from [juliet](https://juliet.readthedocs.io/en/latest/tutorials/rvfits.html#rv-fits), which is nice!\n",
    "- The \"extra jitter\" terms inflate the error bars for both instruments quite a bit, suggesting that there is unaccounted for signal (or noise) in the data.\n",
    "\n",
    "We will further investigate that second bullet point by adding a second planet to the model.\n",
    "\n",
    "## Two-Planet Model\n",
    "\n",
    "The steps for a two-planet model are the exact same as with the one-planet model, except that we now pass `2` to ou model-building function.\n",
    "\n",
    "We again start by taking a look at the MAP fit."
   ]
  },
  {
   "cell_type": "code",
   "execution_count": null,
   "id": "967d35a5",
   "metadata": {},
   "outputs": [],
   "source": [
    "post_two = build_model(2)\n",
    "print(post_two)"
   ]
  },
  {
   "cell_type": "code",
   "execution_count": null,
   "id": "5a57ebd2",
   "metadata": {},
   "outputs": [],
   "source": [
    "res = optimize.minimize(\n",
    "    post_two.neglogprob_array, post_two.get_vary_params(), method='Nelder-Mead',\n",
    "    options=dict(maxiter=200, maxfev=100000, xatol=1e-8)\n",
    ")\n",
    "post_two.set_vary_params(res.x)"
   ]
  },
  {
   "cell_type": "code",
   "execution_count": null,
   "id": "85a66e8a",
   "metadata": {},
   "outputs": [],
   "source": [
    "plot_data(t, vel, errvel)\n",
    "plt.plot(t_mod - T_OFF, post_two.model(t_mod))\n",
    "plt.ylim([-20,20])\n",
    "plt.xlim([1365,1435])\n",
    "plt.show()"
   ]
  },
  {
   "cell_type": "markdown",
   "id": "daa7701a",
   "metadata": {},
   "source": [
    "This already looks like it has a better change of capturing all the variability in there.\n",
    "Let us see what nested sampling gives us."
   ]
  },
  {
   "cell_type": "code",
   "execution_count": null,
   "id": "48f4b2ab",
   "metadata": {},
   "outputs": [],
   "source": [
    "results_two = nested_sampling.run_multinest(post_two, run_kwargs={\"n_live_points\": 300, \"resume\": False})\n",
    "samples_two = results_two[\"samples\"][:, :-1]"
   ]
  },
  {
   "cell_type": "code",
   "execution_count": null,
   "id": "ab953b5f",
   "metadata": {},
   "outputs": [],
   "source": [
    "med_params = np.median(samples_two, axis=0)\n",
    "post_two.set_vary_params(med_params)\n",
    "print(post_two)"
   ]
  },
  {
   "cell_type": "code",
   "execution_count": null,
   "id": "79d181b2",
   "metadata": {},
   "outputs": [],
   "source": [
    "plot_data(t, vel, errvel, post=post_two)\n",
    "plt.plot(t_mod - T_OFF, post_two.model(t_mod), \"k\")\n",
    "plt.ylim([-20,20])\n",
    "plt.xlim([1365,1435])\n",
    "plt.title(f\"2 Planet Fit | Log-evidence: {results_two['lnZ']:.2f} $\\pm$ {results_two['lnZerr']:.2f}\")\n",
    "plt.show()"
   ]
  },
  {
   "cell_type": "markdown",
   "id": "f418b6b0",
   "metadata": {},
   "source": [
    "This all looks much better!\n",
    "Notice that the \"extra jitter\" terms are now smaller, and the fit looks like a closer match to the data.\n",
    "We can also calculate the $\\Delta \\ln Z$ to get a quantitative estimate of the odds ratio between the two models.\n"
   ]
  },
  {
   "cell_type": "code",
   "execution_count": null,
   "id": "237da7b2",
   "metadata": {
    "lines_to_next_cell": 0
   },
   "outputs": [],
   "source": [
    "delta_lnZ_21 = results_two[\"lnZ\"] - results_single[\"lnZ\"]\n",
    "print(f\"Evidence one planet: {results_single['lnZ']:.2f} +/- {results_single['lnZerr']:.2f}\")\n",
    "print(f\"Evidence two planet: {results_two['lnZ']:.2f} +/- {results_two['lnZerr']:.2f}\")\n",
    "print(f\"Difference (2 - 1): {delta_lnZ_21:.2f}\")"
   ]
  },
  {
   "cell_type": "markdown",
   "id": "a79f88f1",
   "metadata": {},
   "source": [
    "As we can see above, the evidence is extremely strong in favor of the two-planet model.\n",
    "\n",
    "Since nested sampling also gives us the posterior distribution, we can take a look at the posterior samples for parameters of interest."
   ]
  },
  {
   "cell_type": "code",
   "execution_count": null,
   "id": "de80fd4b",
   "metadata": {},
   "outputs": [],
   "source": [
    "n_params = len(post_two.name_vary_params())\n",
    "show_names = [\"k1\", \"per2\", \"k2\"]\n",
    "show_idx = [i for i, name in enumerate(post_two.name_vary_params()) if name in show_names]\n",
    "show_labels = [\"$K_1$ [m/s]\", \"$P_2$ [d]\", \"$K_2$ [m/s]\"]\n",
    "\n",
    "import corner\n",
    "corner.corner(samples_two[:, show_idx], labels=show_labels, show_titles=True)\n",
    "plt.show()"
   ]
  },
  {
   "cell_type": "markdown",
   "id": "04eb6e72",
   "metadata": {},
   "source": [
    "The bimodality for $P_2$ is caused by an alias of the period.\n",
    "This is discussed in the [Joint transit and radial-velocity fits](https://juliet.readthedocs.io/en/latest/tutorials/jointfits.html#jointfits) tutorial of Juliet and in the [Espinoza et al. (2019)](https://arxiv.org/abs/1903.07694) paper.\n",
    "Please take a look at these references if you want to learn more!\n",
    "\n",
    "## Three-planet fit\n",
    "\n",
    "There is still some unexplained variation in the data (the jitter terms are non-zero).\n",
    "Let us explore if this can be explained by adding a third planet."
   ]
  },
  {
   "cell_type": "code",
   "execution_count": null,
   "id": "7c1c97af",
   "metadata": {},
   "outputs": [],
   "source": [
    "post_three = build_model(3)\n",
    "\n",
    "res = optimize.minimize(\n",
    "    post_three.neglogprob_array, post_three.get_vary_params(), method='Nelder-Mead',\n",
    "    options=dict(maxiter=200, maxfev=100000, xatol=1e-8)\n",
    ")\n",
    "post_three.set_vary_params(res.x)\n",
    "print(post_three)"
   ]
  },
  {
   "cell_type": "code",
   "execution_count": null,
   "id": "554f788d",
   "metadata": {},
   "outputs": [],
   "source": [
    "plot_data(t, vel, errvel)\n",
    "plt.plot(t_mod - T_OFF, post_three.model(t_mod))\n",
    "plt.ylim([-20,20])\n",
    "plt.xlim([1365,1435])\n",
    "plt.show()"
   ]
  },
  {
   "cell_type": "code",
   "execution_count": null,
   "id": "9b6de5fe",
   "metadata": {},
   "outputs": [],
   "source": [
    "results_three = nested_sampling.run_multinest(post_three, run_kwargs={\"n_live_points\": 300, \"resume\": False})\n",
    "samples_three = results_three[\"samples\"][:, :-1]"
   ]
  },
  {
   "cell_type": "code",
   "execution_count": null,
   "id": "612d3d38",
   "metadata": {},
   "outputs": [],
   "source": [
    "med_params = np.median(samples_three, axis=0)\n",
    "post_three.set_vary_params(med_params)\n",
    "print(post_three)"
   ]
  },
  {
   "cell_type": "code",
   "execution_count": null,
   "id": "d29ed592",
   "metadata": {},
   "outputs": [],
   "source": [
    "plot_data(t, vel, errvel, post=post_three)\n",
    "plt.plot(t_mod - T_OFF, post_three.model(t_mod), \"k\")\n",
    "plt.ylim([-20,20])\n",
    "plt.xlim([1365,1435])\n",
    "plt.title(f\"3 Planet Fit | Log-evidence: {results_three['lnZ']:.2f} $\\pm$ {results_three['lnZerr']:.2f}\")\n",
    "plt.show()"
   ]
  },
  {
   "cell_type": "code",
   "execution_count": null,
   "id": "be23e380",
   "metadata": {},
   "outputs": [],
   "source": [
    "print(f\"Evidence one planet: {results_single['lnZ']:.2f} +/- {results_single['lnZerr']:.2f}\")\n",
    "print(f\"Evidence two planet: {results_two['lnZ']:.2f} +/- {results_two['lnZerr']:.2f}\")\n",
    "print(f\"Evidence three planet: {results_three['lnZ']:.2f} +/- {results_three['lnZerr']:.2f}\")"
   ]
  },
  {
   "cell_type": "markdown",
   "id": "229e88ef",
   "metadata": {},
   "source": [
    "As we can see, the evidence is stronger for the two-planet model and does not justify the inclusion of a third companion in the system."
   ]
  }
 ],
 "metadata": {
  "jupytext": {
   "cell_metadata_filter": "-all",
   "main_language": "python",
   "notebook_metadata_filter": "-all"
  }
 },
 "nbformat": 4,
 "nbformat_minor": 5
}
