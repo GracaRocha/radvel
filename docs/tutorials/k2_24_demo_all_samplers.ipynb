{
 "cells": [
  {
   "cell_type": "markdown",
   "id": "de137870",
   "metadata": {},
   "source": [
    "# Available Nested Samplers\n",
    "\n",
    "Most nested sampling requires two things to generate samples from a posterior distribution:\n",
    "\n",
    "1. A prior transform converting samples from a uniform distribution to the prior distribution\n",
    "2. A log-likelihood function\n",
    "\n",
    "RadVel's `Posterior` object implements both of these through `Posterior.prior_transform()` and `Posterior.likelihood_ns_array()`.\n",
    "This means models defined with RadVel can be sampled with pretty much any nested sampling library.\n",
    "For convenience, a few of them have wrappers implemented in the `radvel.nested_sampling` module:\n",
    "\n",
    "- [UltraNest](https://johannesbuchner.github.io/UltraNest/index.html)\n",
    "- [dynesty](https://dynesty.readthedocs.io/)\n",
    "- [PyMultiNest](https://github.com/JohannesBuchner/PyMultiNest/)\n",
    "- [Nautilus](https://nautilus-sampler.readthedocs.io/)\n",
    "\n",
    "While these libraries all have a common API, they all have small differences in how they should be run and how they generate their outputs.\n",
    "The `radvel.nested_sampling` module provides a common output format for all libraries, as explained below.\n",
    "\n",
    "In this notebook, we will demonstrate how to sample a RadVel model with each of these libraries using the K2-24 example dataset from the [K2-24 Fitting & MCMC tutorial](https://radvel.readthedocs.io/en/latest/tutorials/K2-24_Fitting+MCMC.htm)\n",
    "\n",
    "## Model Definition\n",
    "\n",
    "First, we need to set up the RadVel model as we would do for MCMC."
   ]
  },
  {
   "cell_type": "code",
   "execution_count": null,
   "id": "47d1a387",
   "metadata": {},
   "outputs": [],
   "source": [
    "import time\n",
    "\n",
    "import radvel\n",
    "import numpy as np\n",
    "from pandas import read_csv\n",
    "import os\n",
    "from radvel import nested_sampling as rns\n",
    "\n",
    "import matplotlib.pyplot as plt"
   ]
  },
  {
   "cell_type": "code",
   "execution_count": null,
   "id": "d9526f67",
   "metadata": {},
   "outputs": [],
   "source": [
    "# Set to True when to avoid re-running samplers\n",
    "RESUME = True"
   ]
  },
  {
   "cell_type": "code",
   "execution_count": null,
   "id": "269a6deb",
   "metadata": {},
   "outputs": [],
   "source": [
    "def initialize_model():\n",
    "    time_base = 2420\n",
    "    params = radvel.Parameters(2,basis='per tc secosw sesinw logk') # number of planets = 2\n",
    "    params['per1'] = radvel.Parameter(value=20.885258)\n",
    "    params['tc1'] = radvel.Parameter(value=2072.79438)\n",
    "    params['secosw1'] = radvel.Parameter(value=0.01)\n",
    "    params['sesinw1'] = radvel.Parameter(value=0.01)\n",
    "    params['logk1'] = radvel.Parameter(value=1.1)\n",
    "    params['per2'] = radvel.Parameter(value=42.363011)\n",
    "    params['tc2'] = radvel.Parameter(value=2082.62516)\n",
    "    params['secosw2'] = radvel.Parameter(value=0.01)\n",
    "    params['sesinw2'] = radvel.Parameter(value=0.01)\n",
    "    params['logk2'] = radvel.Parameter(value=1.1)\n",
    "    mod = radvel.RVModel(params, time_base=time_base)\n",
    "    mod.params['dvdt'] = radvel.Parameter(value=-0.02)\n",
    "    mod.params['curv'] = radvel.Parameter(value=0.01)\n",
    "\n",
    "    like = radvel.likelihood.RVLikelihood(mod, t, vel, errvel)\n",
    "    like.params['gamma'] = radvel.Parameter(value=0.1, vary=False, linear=True)\n",
    "    like.params['jit'] = radvel.Parameter(value=1.0)\n",
    "    like.params['secosw1'].vary = False\n",
    "    like.params['sesinw1'].vary = False\n",
    "    like.params['per1'].vary = False\n",
    "    like.params['tc1'].vary = False\n",
    "    like.params['secosw2'].vary = False\n",
    "    like.params['sesinw2'].vary = False\n",
    "    like.params['per2'].vary = False\n",
    "    like.params['tc2'].vary = False\n",
    "\n",
    "    post = radvel.posterior.Posterior(like)\n",
    "    post.priors += [radvel.prior.Gaussian('jit', np.log(3), 0.5)]\n",
    "    post.priors += [radvel.prior.Gaussian('logk1', np.log(5), 10)]\n",
    "    post.priors += [radvel.prior.Gaussian('dvdt', 0, 1.0)]\n",
    "    post.priors += [radvel.prior.Gaussian('curv', 0, 1e-1)]\n",
    "    post.priors += [radvel.prior.Gaussian('logk2', np.log(5), 10)]\n",
    "\n",
    "    return post"
   ]
  },
  {
   "cell_type": "code",
   "execution_count": null,
   "id": "a02fe9a0",
   "metadata": {},
   "outputs": [],
   "source": [
    "path = os.path.join(radvel.DATADIR,'epic203771098.csv')\n",
    "rv = read_csv(path)\n",
    "\n",
    "t = np.array(rv.t)\n",
    "vel = np.array(rv.vel)\n",
    "errvel = rv.errvel\n",
    "ti = np.linspace(rv.t.iloc[0]-5,rv.t.iloc[-1]+5,100)"
   ]
  },
  {
   "cell_type": "code",
   "execution_count": null,
   "id": "a9d8b5aa",
   "metadata": {},
   "outputs": [],
   "source": [
    "post = initialize_model()\n",
    "print(post)"
   ]
  },
  {
   "cell_type": "code",
   "execution_count": null,
   "id": "b772b889",
   "metadata": {},
   "outputs": [],
   "source": [
    "def plot_results(like):\n",
    "    fig = plt.figure(figsize=(12,4))\n",
    "    fig = plt.gcf()\n",
    "    fig.set_tight_layout(True)\n",
    "    plt.errorbar(\n",
    "        like.x, like.model(t)+like.residuals(), \n",
    "        yerr=like.yerr, fmt='o'\n",
    "        )\n",
    "    plt.plot(ti, like.model(ti))\n",
    "    plt.xlabel('Time')\n",
    "    plt.ylabel('RV')\n",
    "    return fig"
   ]
  },
  {
   "cell_type": "code",
   "execution_count": null,
   "id": "1ea49d42",
   "metadata": {},
   "outputs": [],
   "source": [
    "plot_results(post.likelihood)\n",
    "plt.show()"
   ]
  },
  {
   "cell_type": "markdown",
   "id": "b70f700d",
   "metadata": {},
   "source": [
    "## Nested Sampling\n",
    "\n",
    "Now that we have our model, we can run one or more nested sampling algorithms.\n",
    "Here we run all libraries available in RadVel.\n",
    "Each library has its own `nested_sampling.run_<library_name>()` methods.\n",
    "\n",
    "In their simplest form, all these methods require only a `Posterior` as input.\n",
    "However, arguments can be passed directly to the samplers or the \"run\" functions through `sampler_kwargs` and `run_kwargs`, respectively.\n",
    "We refer users to the documentation of each library (linked at the start of this notebook) to find out which arguments are available.\n",
    "\n",
    "Each nested sampling function will return results in a standard dictionary format with the following keys:\n",
    "\n",
    "- `samples`: _equally-weighted_ samples (equivalent to MCMC samples)\n",
    "- `lnZ`: Natural log of the Bayesian evidence\n",
    "- `lnZerr`: Statistical uncertainty on the evidence\n",
    "- `sampler`: Sampler object from the underlying nested sampling package, providing acces to more details about the run and its extra outputs. This is note available for PyMultiNest, which stores the outputs on disk instead of in an Python object, by default.\n",
    "\n",
    "## Running the samplers\n",
    "\n",
    "Let us now run all available samplers and see how they perform in time.\n"
   ]
  },
  {
   "cell_type": "code",
   "execution_count": null,
   "id": "2b08f238",
   "metadata": {},
   "outputs": [],
   "source": [
    "multinest_start = time.time()\n",
    "multinest_results = rns.run(post, sampler=\"multinest\", run_kwargs={\"outputfiles_basename\": \"multinest_demo/out\", \"resume\": RESUME})\n",
    "multinest_time = time.time() - multinest_start\n",
    "print(f\"Running multinest took {multinest_time / 60:.2f} min\")"
   ]
  },
  {
   "cell_type": "code",
   "execution_count": null,
   "id": "785432f4",
   "metadata": {},
   "outputs": [],
   "source": [
    "dynesty_start = time.time()\n",
    "dynesty_results = rns.run(post, sampler=\"dynesty-static\", run_kwargs={\"checkpoint_file\": \"dynesty_demo/dynesty.save\", \"resume\": RESUME})\n",
    "dynesty_time = time.time() - dynesty_start\n",
    "print(f\"Running dynesty took {dynesty_time / 60:.2f} min\")"
   ]
  },
  {
   "cell_type": "code",
   "execution_count": null,
   "id": "33ee29a7",
   "metadata": {},
   "outputs": [],
   "source": [
    "dynesty_start = time.time()\n",
    "dynesty_dynamic_results = rns.run(post, sampler=\"dynesty-dynamic\", run_kwargs={\"checkpoint_file\": \"dynesty_demo_dynamic/dynesty_dynamic.save\", \"resume\": RESUME})\n",
    "dynesty_time = time.time() - dynesty_start\n",
    "print(f\"Running dynesty took {dynesty_time / 60:.2f} min\")"
   ]
  },
  {
   "cell_type": "code",
   "execution_count": null,
   "id": "18b62429",
   "metadata": {},
   "outputs": [],
   "source": [
    "ultranest_start = time.time()\n",
    "ultranest_results = rns.run(post, sampler=\"ultranest\", sampler_kwargs={\"log_dir\": \"ultranest_demo\", \"resume\": RESUME})\n",
    "ultranest_time = time.time() - ultranest_start\n",
    "print(f\"Running ultranest took {ultranest_time / 60:.2f} min\")"
   ]
  },
  {
   "cell_type": "code",
   "execution_count": null,
   "id": "e8c5875d",
   "metadata": {},
   "outputs": [],
   "source": [
    "nautilus_start = time.time()\n",
    "nautilus_results = rns.run(post, sampler=\"nautilus\", sampler_kwargs={\"filepath\": \"nautilus_demo/output.hdf5\", \"resume\": RESUME}, run_kwargs={\"verbose\": True})\n",
    "nautilus_time = time.time() - nautilus_start\n",
    "print(f\"Running nautilus took {nautilus_time / 60:.2f} min\")"
   ]
  },
  {
   "cell_type": "markdown",
   "id": "248ea01a",
   "metadata": {},
   "source": [
    "Once we have all the results, we can compare the Bayesian evidence and the posterior distributions to make sure they are consistent between samplers.\n",
    "Keep in mind that nested sampling algorithms will perform differently on different problems.\n",
    "Both speed and accuracy will depend on the number of dimensions (parameters) and the exact choice of settings.\n",
    "See [Buchner (2021)](https://arxiv.org/abs/2101.09675) for a review of this topi.."
   ]
  },
  {
   "cell_type": "code",
   "execution_count": null,
   "id": "1302ee35",
   "metadata": {},
   "outputs": [],
   "source": [
    "print(f\"Multinest: {multinest_results['lnZ']:.2f} +/- {multinest_results['lnZerr']:.2f}\")\n",
    "print(f\"Dynesty (static): {dynesty_results['lnZ']:.2f} +/- {dynesty_results['lnZerr']:.2f}\")\n",
    "print(f\"Dynesty (dynamic): {dynesty_dynamic_results['lnZ']:.2f} +/- {dynesty_dynamic_results['lnZerr']:.2f}\")\n",
    "print(f\"Ultranest: {ultranest_results['lnZ']:.2f} +/- {ultranest_results['lnZerr']:.2f}\")\n",
    "print(f\"Nautilus: {nautilus_results['lnZ']:.2f} +/- {nautilus_results['lnZerr']**-0.5:.2f}\")"
   ]
  },
  {
   "cell_type": "code",
   "execution_count": null,
   "id": "c5eed6c8",
   "metadata": {},
   "outputs": [],
   "source": [
    "import corner\n",
    "\n",
    "hist_kwargs = {\"density\": True}\n",
    "fig = corner.corner(nautilus_results[\"samples\"], labels=post.name_vary_params(),range=np.repeat(0.999, len(post.name_vary_params())), hist_kwargs=hist_kwargs)\n",
    "\n",
    "corner.corner(multinest_results[\"samples\"], color=\"b\", fig=fig, hist_kwargs=hist_kwargs | {\"color\": \"b\"})\n",
    "\n",
    "corner.corner(dynesty_results[\"samples\"], color=\"r\", fig=fig, hist_kwargs=hist_kwargs | {\"color\": \"r\"},range=np.repeat(0.999, len(post.name_vary_params())))\n",
    "\n",
    "corner.corner(dynesty_dynamic_results[\"samples\"], color=\"yellow\", fig=fig, hist_kwargs=hist_kwargs | {\"color\": \"yellow\"},range=np.repeat(0.999, len(post.name_vary_params())))\n",
    "\n",
    "corner.corner(ultranest_results[\"samples\"], color=\"peachpuff\", fig=fig, hist_kwargs=hist_kwargs | {\"color\": \"peachpuff\"}, range=np.repeat(0.999, len(post.name_vary_params())))\n",
    "\n",
    "plt.show()"
   ]
  }
 ],
 "metadata": {
  "jupytext": {
   "cell_metadata_filter": "-all",
   "main_language": "python",
   "notebook_metadata_filter": "-all"
  }
 },
 "nbformat": 4,
 "nbformat_minor": 5
}
